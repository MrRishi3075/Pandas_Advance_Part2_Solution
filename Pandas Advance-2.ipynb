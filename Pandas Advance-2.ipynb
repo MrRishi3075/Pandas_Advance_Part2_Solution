{
 "cells": [
  {
   "cell_type": "markdown",
   "id": "01e3ffc5-964d-441b-a70c-f5e3814695bd",
   "metadata": {},
   "source": [
    "### Q1. Write a code to print the data present in the second row of the dataframe, df."
   ]
  },
  {
   "cell_type": "markdown",
   "id": "bbc10d99-c4bc-44b5-b232-72c020ebf1d3",
   "metadata": {},
   "source": [
    "### Consider following code to answer further questions:"
   ]
  },
  {
   "cell_type": "code",
   "execution_count": 3,
   "id": "8faae378-ecad-4a39-8851-bc99a72984de",
   "metadata": {},
   "outputs": [
    {
     "name": "stdout",
     "output_type": "stream",
     "text": [
      "        Course_Name  Duration\n",
      "0      Data Science         2\n",
      "1  Machine Learning         3\n",
      "2          Big Data         6\n",
      "3     Data Engineer         4\n"
     ]
    }
   ],
   "source": [
    "import pandas as pd\n",
    "Course_Name = ['Data Science', 'Machine Learning', 'Big Data', 'Data Engineer']\n",
    "Duration =  [2,3,6,4]\n",
    "df = pd.DataFrame(data = {'Course_Name' : Course_Name, 'Duration' : Duration})\n",
    "print(df)"
   ]
  },
  {
   "cell_type": "markdown",
   "id": "e3d1a3ae-3317-42de-9e79-c10f38fb648f",
   "metadata": {},
   "source": [
    "### Q2. What is the difference between the functions loc and iloc in pandas.DataFrame?"
   ]
  },
  {
   "cell_type": "markdown",
   "id": "42ae69db-b087-4187-9067-9ea670ccedac",
   "metadata": {},
   "source": [
    "#### 1.loc (Label-based indexing):\n",
    "\n",
    "loc is primarily used for label-based indexing, meaning you use row and column labels to select data.\n",
    "It includes both the start and stop index when slicing (similar to Python slicing for lists).\n",
    "You can use labels to select specific rows and columns or to slice the data.\n",
    "\n",
    "Example:"
   ]
  },
  {
   "cell_type": "code",
   "execution_count": 1,
   "id": "b58449a9-fa4e-4a6b-96f1-8c0f37126e1e",
   "metadata": {},
   "outputs": [],
   "source": [
    "import pandas as pd\n",
    "\n",
    "data = {'A': [1, 2, 3], 'B': [4, 5, 6]}\n",
    "df = pd.DataFrame(data, index=['x', 'y', 'z'])\n",
    "\n",
    "# Select a specific element by label\n",
    "value = df.loc['x', 'A']  # Selects the element at row 'x' and column 'A'\n",
    "\n",
    "# Select a specific row by label\n",
    "row_x = df.loc['x']  # Selects the entire row labeled 'x'\n",
    "\n",
    "# Select multiple rows and columns using labels\n",
    "subset = df.loc[['x', 'y'], ['A', 'B']]\n"
   ]
  },
  {
   "cell_type": "code",
   "execution_count": 2,
   "id": "23712858-155b-4240-9dbe-b0280c3c91b4",
   "metadata": {},
   "outputs": [
    {
     "data": {
      "text/html": [
       "<div>\n",
       "<style scoped>\n",
       "    .dataframe tbody tr th:only-of-type {\n",
       "        vertical-align: middle;\n",
       "    }\n",
       "\n",
       "    .dataframe tbody tr th {\n",
       "        vertical-align: top;\n",
       "    }\n",
       "\n",
       "    .dataframe thead th {\n",
       "        text-align: right;\n",
       "    }\n",
       "</style>\n",
       "<table border=\"1\" class=\"dataframe\">\n",
       "  <thead>\n",
       "    <tr style=\"text-align: right;\">\n",
       "      <th></th>\n",
       "      <th>A</th>\n",
       "      <th>B</th>\n",
       "    </tr>\n",
       "  </thead>\n",
       "  <tbody>\n",
       "    <tr>\n",
       "      <th>x</th>\n",
       "      <td>1</td>\n",
       "      <td>4</td>\n",
       "    </tr>\n",
       "    <tr>\n",
       "      <th>y</th>\n",
       "      <td>2</td>\n",
       "      <td>5</td>\n",
       "    </tr>\n",
       "  </tbody>\n",
       "</table>\n",
       "</div>"
      ],
      "text/plain": [
       "   A  B\n",
       "x  1  4\n",
       "y  2  5"
      ]
     },
     "execution_count": 2,
     "metadata": {},
     "output_type": "execute_result"
    }
   ],
   "source": [
    "subset"
   ]
  },
  {
   "cell_type": "markdown",
   "id": "ac1a2b6b-e6e7-4d0b-9b7f-1a360db6767d",
   "metadata": {},
   "source": [
    "#### 2.iloc (Integer-based indexing):\n",
    "\n",
    "iloc is used for integer-based indexing, where you use integer positions to select data.\n",
    "It includes the start index but excludes the stop index when slicing, which is similar to Python slicing for lists.\n",
    "You can use integers to select specific rows and columns or to slice the data.\n",
    "\n",
    "Example:"
   ]
  },
  {
   "cell_type": "code",
   "execution_count": 3,
   "id": "9fc1064c-5535-4090-9d39-c4d10c2a3204",
   "metadata": {},
   "outputs": [],
   "source": [
    "import pandas as pd\n",
    "\n",
    "data = {'A': [1, 2, 3], 'B': [4, 5, 6]}\n",
    "df = pd.DataFrame(data)\n",
    "\n",
    "# Select a specific element by integer position\n",
    "value = df.iloc[0, 0]  # Selects the element at row 0 and column 0\n",
    "\n",
    "# Select a specific row by integer position\n",
    "row_0 = df.iloc[0]  # Selects the entire first row\n",
    "\n",
    "# Select multiple rows and columns using integer positions\n",
    "subset = df.iloc[0:2, 0:2]  # Selects the first 2 rows and first 2 columns"
   ]
  },
  {
   "cell_type": "code",
   "execution_count": 4,
   "id": "c27a1723-52bd-4c86-a260-cfc6b37d7653",
   "metadata": {},
   "outputs": [
    {
     "data": {
      "text/html": [
       "<div>\n",
       "<style scoped>\n",
       "    .dataframe tbody tr th:only-of-type {\n",
       "        vertical-align: middle;\n",
       "    }\n",
       "\n",
       "    .dataframe tbody tr th {\n",
       "        vertical-align: top;\n",
       "    }\n",
       "\n",
       "    .dataframe thead th {\n",
       "        text-align: right;\n",
       "    }\n",
       "</style>\n",
       "<table border=\"1\" class=\"dataframe\">\n",
       "  <thead>\n",
       "    <tr style=\"text-align: right;\">\n",
       "      <th></th>\n",
       "      <th>A</th>\n",
       "      <th>B</th>\n",
       "    </tr>\n",
       "  </thead>\n",
       "  <tbody>\n",
       "    <tr>\n",
       "      <th>0</th>\n",
       "      <td>1</td>\n",
       "      <td>4</td>\n",
       "    </tr>\n",
       "    <tr>\n",
       "      <th>1</th>\n",
       "      <td>2</td>\n",
       "      <td>5</td>\n",
       "    </tr>\n",
       "  </tbody>\n",
       "</table>\n",
       "</div>"
      ],
      "text/plain": [
       "   A  B\n",
       "0  1  4\n",
       "1  2  5"
      ]
     },
     "execution_count": 4,
     "metadata": {},
     "output_type": "execute_result"
    }
   ],
   "source": [
    "subset"
   ]
  },
  {
   "cell_type": "markdown",
   "id": "eb37176e-3d5c-41d3-993e-1546eac936b0",
   "metadata": {},
   "source": [
    "##### In summary, the key difference between loc and iloc is in how they index and select data. loc uses labels, while iloc uses integer positions. Depending on your specific use case and whether you want to work with labels or integer positions, you can choose the appropriate method for indexing and selecting data in a pandas DataFrame."
   ]
  },
  {
   "cell_type": "markdown",
   "id": "774c4f41-3970-4ac9-b92a-4f1b1db01b82",
   "metadata": {},
   "source": [
    "### Q3. Reindex the given dataframe using a variable, reindex = [3,0,1,2] and store it in the variable, new_df then find the output for both new_df.loc[2] and new_df.iloc[2]."
   ]
  },
  {
   "cell_type": "markdown",
   "id": "3dcdfc0a-d642-449d-86f6-09d682893a78",
   "metadata": {},
   "source": [
    "#### To reindex a DataFrame using a custom order specified in the reindex variable and then access specific rows using .loc and .iloc, you can follow these steps in Python using pandas:\n",
    "\n",
    "##### Assuming you have a DataFrame df:"
   ]
  },
  {
   "cell_type": "code",
   "execution_count": 1,
   "id": "1d8cee5c-f3aa-40af-845d-9d532ec5b324",
   "metadata": {},
   "outputs": [
    {
     "name": "stdout",
     "output_type": "stream",
     "text": [
      "Result using .loc[2]:\n",
      " A    3\n",
      "B    7\n",
      "Name: 2, dtype: int64\n",
      "\n",
      "Result using .iloc[2]:\n",
      " A    2\n",
      "B    6\n",
      "Name: 1, dtype: int64\n"
     ]
    }
   ],
   "source": [
    "import pandas as pd\n",
    "\n",
    "# Your original DataFrame\n",
    "df = pd.DataFrame({'A': [1, 2, 3, 4], 'B': [5, 6, 7, 8]})\n",
    "\n",
    "# Custom reindex order\n",
    "reindex = [3, 0, 1, 2]\n",
    "\n",
    "# Reindex the DataFrame and store it in new_df\n",
    "new_df = df.reindex(reindex)\n",
    "\n",
    "# Access row 2 using .loc\n",
    "result_loc = new_df.loc[2]\n",
    "\n",
    "# Access row 2 using .iloc\n",
    "result_iloc = new_df.iloc[2]\n",
    "\n",
    "print(\"Result using .loc[2]:\\n\", result_loc)\n",
    "print(\"\\nResult using .iloc[2]:\\n\", result_iloc)\n"
   ]
  },
  {
   "cell_type": "markdown",
   "id": "25b87b08-635e-4467-be8c-9f498f181da0",
   "metadata": {},
   "source": [
    "### Q4. Write a code to find the following statistical measurements for the above dataframe df1:\n",
    "\n",
    "* (i) \tmean of each and every column present in the dataframe.\n",
    "* (ii) standard deviation of column, ‘column_2’\n"
   ]
  },
  {
   "cell_type": "code",
   "execution_count": 5,
   "id": "49b489e5-e549-49d6-8ad3-e9c16e3eafb8",
   "metadata": {},
   "outputs": [],
   "source": [
    "import pandas as pd\n",
    "\n",
    "import numpy as np\n",
    "\n",
    "columns = ['column_1', 'column_2', 'column_3', 'column_4', 'column_5', 'column_6']\n",
    "\n",
    "indices = [1,2,3,4,5,6]\n",
    "\n",
    "#Creating a dataframe:\n",
    "\n",
    "df1 = pd.DataFrame(np.random.rand(6,6), columns = columns, index = indices)"
   ]
  },
  {
   "cell_type": "code",
   "execution_count": 6,
   "id": "8b5910c8-3380-41d6-908a-bf90cdea4d46",
   "metadata": {},
   "outputs": [
    {
     "data": {
      "text/html": [
       "<div>\n",
       "<style scoped>\n",
       "    .dataframe tbody tr th:only-of-type {\n",
       "        vertical-align: middle;\n",
       "    }\n",
       "\n",
       "    .dataframe tbody tr th {\n",
       "        vertical-align: top;\n",
       "    }\n",
       "\n",
       "    .dataframe thead th {\n",
       "        text-align: right;\n",
       "    }\n",
       "</style>\n",
       "<table border=\"1\" class=\"dataframe\">\n",
       "  <thead>\n",
       "    <tr style=\"text-align: right;\">\n",
       "      <th></th>\n",
       "      <th>column_1</th>\n",
       "      <th>column_2</th>\n",
       "      <th>column_3</th>\n",
       "      <th>column_4</th>\n",
       "      <th>column_5</th>\n",
       "      <th>column_6</th>\n",
       "    </tr>\n",
       "  </thead>\n",
       "  <tbody>\n",
       "    <tr>\n",
       "      <th>1</th>\n",
       "      <td>0.844910</td>\n",
       "      <td>0.966272</td>\n",
       "      <td>0.325169</td>\n",
       "      <td>0.500247</td>\n",
       "      <td>0.807721</td>\n",
       "      <td>0.252791</td>\n",
       "    </tr>\n",
       "    <tr>\n",
       "      <th>2</th>\n",
       "      <td>0.407024</td>\n",
       "      <td>0.195939</td>\n",
       "      <td>0.939879</td>\n",
       "      <td>0.368534</td>\n",
       "      <td>0.802916</td>\n",
       "      <td>0.322983</td>\n",
       "    </tr>\n",
       "    <tr>\n",
       "      <th>3</th>\n",
       "      <td>0.048733</td>\n",
       "      <td>0.684409</td>\n",
       "      <td>0.617880</td>\n",
       "      <td>0.692785</td>\n",
       "      <td>0.614431</td>\n",
       "      <td>0.605033</td>\n",
       "    </tr>\n",
       "    <tr>\n",
       "      <th>4</th>\n",
       "      <td>0.643284</td>\n",
       "      <td>0.103462</td>\n",
       "      <td>0.715721</td>\n",
       "      <td>0.795949</td>\n",
       "      <td>0.972499</td>\n",
       "      <td>0.815070</td>\n",
       "    </tr>\n",
       "    <tr>\n",
       "      <th>5</th>\n",
       "      <td>0.823117</td>\n",
       "      <td>0.031330</td>\n",
       "      <td>0.646903</td>\n",
       "      <td>0.755910</td>\n",
       "      <td>0.587855</td>\n",
       "      <td>0.945226</td>\n",
       "    </tr>\n",
       "    <tr>\n",
       "      <th>6</th>\n",
       "      <td>0.782117</td>\n",
       "      <td>0.991489</td>\n",
       "      <td>0.868662</td>\n",
       "      <td>0.776864</td>\n",
       "      <td>0.557165</td>\n",
       "      <td>0.345159</td>\n",
       "    </tr>\n",
       "  </tbody>\n",
       "</table>\n",
       "</div>"
      ],
      "text/plain": [
       "   column_1  column_2  column_3  column_4  column_5  column_6\n",
       "1  0.844910  0.966272  0.325169  0.500247  0.807721  0.252791\n",
       "2  0.407024  0.195939  0.939879  0.368534  0.802916  0.322983\n",
       "3  0.048733  0.684409  0.617880  0.692785  0.614431  0.605033\n",
       "4  0.643284  0.103462  0.715721  0.795949  0.972499  0.815070\n",
       "5  0.823117  0.031330  0.646903  0.755910  0.587855  0.945226\n",
       "6  0.782117  0.991489  0.868662  0.776864  0.557165  0.345159"
      ]
     },
     "execution_count": 6,
     "metadata": {},
     "output_type": "execute_result"
    }
   ],
   "source": [
    "df1"
   ]
  },
  {
   "cell_type": "code",
   "execution_count": 2,
   "id": "cd7130d6-90f8-46ab-ba12-51f82ab67cc9",
   "metadata": {},
   "outputs": [
    {
     "name": "stdout",
     "output_type": "stream",
     "text": [
      "Mean of each column:\n",
      "column_1    0.629271\n",
      "column_2    0.462383\n",
      "column_3    0.645131\n",
      "column_4    0.387507\n",
      "column_5    0.493141\n",
      "column_6    0.618799\n",
      "dtype: float64\n",
      "\n",
      "Standard Deviation of 'column_2':\n",
      "0.28555673350722627\n"
     ]
    }
   ],
   "source": [
    "import pandas as pd\n",
    "import numpy as np\n",
    "\n",
    "# Define columns and indices\n",
    "columns = ['column_1', 'column_2', 'column_3', 'column_4', 'column_5', 'column_6']\n",
    "indices = [1, 2, 3, 4, 5, 6]\n",
    "\n",
    "# Create a DataFrame\n",
    "df1 = pd.DataFrame(np.random.rand(6, 6), columns=columns, index=indices)\n",
    "\n",
    "# (i) Calculate the mean of each column\n",
    "column_means = df1.mean()\n",
    "\n",
    "# (ii) Calculate the standard deviation of 'column_2'\n",
    "column_2_std = df1['column_2'].std()\n",
    "\n",
    "print(\"Mean of each column:\")\n",
    "print(column_means)\n",
    "\n",
    "print(\"\\nStandard Deviation of 'column_2':\")\n",
    "print(column_2_std)\n"
   ]
  },
  {
   "cell_type": "markdown",
   "id": "f7b17064-c2ca-47d7-85eb-460b13cfb2b4",
   "metadata": {},
   "source": [
    "### Q5. Replace the data present in the second row of column, ‘column_2’ by a string variable then find the mean of column, column_2.\n"
   ]
  },
  {
   "cell_type": "markdown",
   "id": "65c34195-85e3-4d90-9aad-ba6c8fb1151c",
   "metadata": {},
   "source": [
    "### If you are getting errors in executing it then explain why.\n",
    "[Hint: To replace the data use df1.loc[] and equate this to string data of your choice.]\n",
    "\n",
    "\n"
   ]
  },
  {
   "cell_type": "raw",
   "id": "550cb76a-3801-40b5-b2ee-57152cf45c7e",
   "metadata": {},
   "source": [
    "You cannot directly replace the data in a numerical column with a string variable and then calculate the mean of that column because pandas requires all values in a column to be of the same data type, typically either numeric or string. Mixing data types within a single column will result in an error.\n",
    "\n",
    "If you want to replace the data in the second row of 'column_2' with a string variable, you will need to change the data type of the entire 'column_2' to object (which allows mixed data types) or use a different approach to achieve your goal.\n",
    "\n",
    "Here's how you can change the data type of 'column_2' to object and then calculate the mean:"
   ]
  },
  {
   "cell_type": "code",
   "execution_count": null,
   "id": "4786d4dd-d8e2-4e60-b814-70047bfae179",
   "metadata": {},
   "outputs": [],
   "source": [
    "import pandas as pd\n",
    "import numpy as np\n",
    "\n",
    "# Define columns and indices\n",
    "columns = ['column_1', 'column_2', 'column_3', 'column_4', 'column_5', 'column_6']\n",
    "indices = [1, 2, 3, 4, 5, 6]\n",
    "\n",
    "# Create a DataFrame\n",
    "df1 = pd.DataFrame(np.random.rand(6, 6), columns=columns, index=indices)\n",
    "\n",
    "# Replace the data in the second row of 'column_2' with \"Hello\"\n",
    "df1.loc[2, 'column_2'] = \"Hello\"\n",
    "\n",
    "# Calculate the mean of 'column_2'\n",
    "column_2_mean = df1['column_2'].mean()\n",
    "\n",
    "print(\"Mean of 'column_2':\", column_2_mean)\n"
   ]
  },
  {
   "cell_type": "markdown",
   "id": "db86268c-2903-414d-bed4-c798db98f191",
   "metadata": {},
   "source": [
    "### Q6. What do you understand about the windows function in pandas and list the types of windows functions?"
   ]
  },
  {
   "cell_type": "code",
   "execution_count": 13,
   "id": "387da07d-3c12-4c30-be49-cdec3a3056eb",
   "metadata": {},
   "outputs": [],
   "source": [
    "df = pd.DataFrame({\"column\": [11,22,33,88,55,44]})"
   ]
  },
  {
   "cell_type": "code",
   "execution_count": 14,
   "id": "452a5ad8-874d-4c79-b935-b2ad6dbe0fd4",
   "metadata": {},
   "outputs": [
    {
     "data": {
      "text/plain": [
       "0          NaN\n",
       "1          NaN\n",
       "2    22.000000\n",
       "3    47.666667\n",
       "4    58.666667\n",
       "5    62.333333\n",
       "Name: column, dtype: float64"
      ]
     },
     "execution_count": 14,
     "metadata": {},
     "output_type": "execute_result"
    }
   ],
   "source": [
    "df['column'].rolling(window=3).mean()"
   ]
  },
  {
   "cell_type": "markdown",
   "id": "73e6148c-ee2a-49e3-b363-a48e19b9c1b1",
   "metadata": {},
   "source": [
    "##### In pandas, window functions (also known as windowing or rolling functions) are a powerful tool for performing calculations on a set of data points within a moving or fixed window or interval. These functions allow you to analyze and manipulate data in a structured way over subsets of the data, making them particularly useful for time series data and other sequential data.\n",
    "\n",
    "##### Window functions in pandas are typically used in conjunction with the .rolling() method for Series and DataFrames. Here are some common types of window functions in pandas:\n",
    "\n",
    "#### 1.Rolling Mean/Windowed Mean:\n",
    "\n",
    "Calculates the mean of a rolling window of data points.\n",
    "Example: df['column'].rolling(window=3).mean() calculates the rolling mean of a DataFrame's 'column' using a window size of 3.\n",
    "\n",
    "#### 2.Rolling Sum/Windowed Sum:\n",
    "\n",
    "Calculates the sum of a rolling window of data points.\n",
    "Example: df['column'].rolling(window=5).sum() calculates the rolling sum of a DataFrame's 'column' using a window size of 5.\n",
    "\n",
    "#### 3.Rolling Standard Deviation/Windowed Standard Deviation:\n",
    "\n",
    "Computes the standard deviation of a rolling window of data points.\n",
    "Example: df['column'].rolling(window=4).std() calculates the rolling standard deviation of a DataFrame's 'column' with a window size of 4.\n",
    "\n",
    "#### 4.Rolling Minimum/Windowed Minimum:\n",
    "\n",
    "Determines the minimum value within a rolling window of data points.\n",
    "Example: df['column'].rolling(window=2).min() calculates the rolling minimum of a DataFrame's 'column' with a window size of 2.\n",
    "\n",
    "#### 5.Rolling Maximum/Windowed Maximum:\n",
    "\n",
    "Finds the maximum value within a rolling window of data points.\n",
    "Example: df['column'].rolling(window=7).max() calculates the rolling maximum of a DataFrame's 'column' using a window size of 7.\n",
    "\n",
    "#### 6.Exponential Moving Average (EMA):\n",
    "\n",
    "Calculates the exponential moving average, which assigns greater weight to recent data points.\n",
    "Example: df['column'].ewm(span=10).mean() calculates the EMA of a DataFrame's 'column' with a span of 10.\n",
    "\n",
    "#### 7.Quantile Window Functions:\n",
    "\n",
    "Calculates quantiles (percentiles) within a rolling window.\n",
    "Example: df['column'].rolling(window=3).quantile(0.25) calculates the rolling 25th percentile of a DataFrame's 'column' using a window size of 3.\n",
    "\n",
    "#### 8.Custom Window Functions:\n",
    "\n",
    "You can define custom window functions using the .apply() method with a custom function that operates on a rolling window.\n",
    "\n",
    "Window functions are highly flexible and allow you to perform various analytical tasks on your data, such as smoothing, trend analysis, and outlier detection, among others. They are particularly useful when working with time series data to gain insights and make informed decisions based on patterns within the data.\n",
    "\n",
    "\n",
    "\n",
    "\n",
    "\n"
   ]
  },
  {
   "cell_type": "markdown",
   "id": "6f112af2-56f7-4d63-8134-10099c92ff17",
   "metadata": {},
   "source": [
    "### Q7. Write a code to print only the current month and year at the time of answering this question.\n",
    "* [Hint: Use pandas.datetime function]\n"
   ]
  },
  {
   "cell_type": "code",
   "execution_count": 15,
   "id": "0bd1ec76-50d0-4add-91e4-6f9891b693c8",
   "metadata": {},
   "outputs": [
    {
     "name": "stdout",
     "output_type": "stream",
     "text": [
      "Current month: September\n",
      "Current year: 2023\n"
     ]
    }
   ],
   "source": [
    "from datetime import datetime\n",
    "\n",
    "# Get the current date and time\n",
    "current_datetime = datetime.now()\n",
    "\n",
    "# Extract the current month and year\n",
    "current_month = current_datetime.strftime('%B')  # Full month name\n",
    "current_year = current_datetime.strftime('%Y')    # Four-digit year\n",
    "\n",
    "# Print the current month and year\n",
    "print(f\"Current month: {current_month}\")\n",
    "print(f\"Current year: {current_year}\")\n"
   ]
  },
  {
   "cell_type": "markdown",
   "id": "13121829-44b2-4249-acc9-879d6c029ae9",
   "metadata": {},
   "source": [
    "### Q8. Write a Python program that takes in two dates as input (in the format YYYY-MM-DD) and calculates the difference between them in days, hours, and minutes using Pandas time delta. The program should prompt the user to enter the dates and display the result. Did you observe any difference in both the outputs? If so then explain it."
   ]
  },
  {
   "cell_type": "code",
   "execution_count": 17,
   "id": "18ff9792-9856-4b8c-9f0b-f35128032360",
   "metadata": {},
   "outputs": [
    {
     "name": "stdin",
     "output_type": "stream",
     "text": [
      "Enter the first date (YYYY-MM-DD):  2022-09-23\n",
      "Enter the second date (YYYY-MM-DD):  2023-09-22\n"
     ]
    },
    {
     "name": "stdout",
     "output_type": "stream",
     "text": [
      "Time difference: 364 days, 0 hours, 0 minutes\n"
     ]
    }
   ],
   "source": [
    "import pandas as pd\n",
    "\n",
    "# Function to calculate the time difference\n",
    "def calculate_time_difference():\n",
    "    try:\n",
    "        # Input two dates in YYYY-MM-DD format\n",
    "        date1_str = input(\"Enter the first date (YYYY-MM-DD): \")\n",
    "        date2_str = input(\"Enter the second date (YYYY-MM-DD): \")\n",
    "\n",
    "        # Convert the input strings to datetime objects\n",
    "        date1 = pd.to_datetime(date1_str)\n",
    "        date2 = pd.to_datetime(date2_str)\n",
    "\n",
    "        # Calculate the time difference\n",
    "        time_difference = date2 - date1\n",
    "\n",
    "        # Extract days, hours, and minutes\n",
    "        days = time_difference.days\n",
    "        hours, remainder = divmod(time_difference.seconds, 3600)\n",
    "        minutes, _ = divmod(remainder, 60)\n",
    "\n",
    "        # Print the result\n",
    "        print(f\"Time difference: {days} days, {hours} hours, {minutes} minutes\")\n",
    "\n",
    "    except ValueError:\n",
    "        print(\"Invalid date format. Please use YYYY-MM-DD format.\")\n",
    "\n",
    "if __name__ == \"__main__\":\n",
    "    calculate_time_difference()\n"
   ]
  },
  {
   "cell_type": "markdown",
   "id": "79ec0e8f-8f87-4c53-80b3-5a39f94239fa",
   "metadata": {},
   "source": [
    "### Q9. Write a Python program that reads a CSV file containing categorical data and converts a specified column to a categorical data type. The program should prompt the user to enter the file path, column name, and category order, and then display the sorted data.\n"
   ]
  },
  {
   "cell_type": "code",
   "execution_count": 18,
   "id": "97f7c3f0-6410-435c-83cf-22873d70669a",
   "metadata": {},
   "outputs": [
    {
     "name": "stdout",
     "output_type": "stream",
     "text": [
      "Requirement already satisfied: pandas in /opt/conda/lib/python3.10/site-packages (1.5.2)\n",
      "Requirement already satisfied: python-dateutil>=2.8.1 in /opt/conda/lib/python3.10/site-packages (from pandas) (2.8.2)\n",
      "Requirement already satisfied: pytz>=2020.1 in /opt/conda/lib/python3.10/site-packages (from pandas) (2022.6)\n",
      "Requirement already satisfied: numpy>=1.21.0 in /opt/conda/lib/python3.10/site-packages (from pandas) (1.23.5)\n",
      "Requirement already satisfied: six>=1.5 in /opt/conda/lib/python3.10/site-packages (from python-dateutil>=2.8.1->pandas) (1.16.0)\n",
      "Note: you may need to restart the kernel to use updated packages.\n"
     ]
    }
   ],
   "source": [
    "pip install pandas\n"
   ]
  },
  {
   "cell_type": "code",
   "execution_count": 3,
   "id": "24395d72-d890-4bb5-9c3b-09d316cfe22a",
   "metadata": {},
   "outputs": [
    {
     "name": "stdin",
     "output_type": "stream",
     "text": [
      "Enter the CSV file path:  Players_Data.csv\n"
     ]
    },
    {
     "name": "stdout",
     "output_type": "stream",
     "text": [
      "Columns in the CSV file:\n",
      "Index(['Rk', 'Player', 'Pos', 'Age', 'Tm', 'G', 'GS', 'MP', 'FG', 'FGA', 'FG%',\n",
      "       '3P', '3PA', '3P%', '2P', '2PA', '2P%', 'eFG%', 'FT', 'FTA', 'FT%',\n",
      "       'ORB', 'DRB', 'TRB', 'AST', 'STL', 'BLK', 'TOV', 'PF', 'PTS'],\n",
      "      dtype='object')\n"
     ]
    },
    {
     "name": "stdin",
     "output_type": "stream",
     "text": [
      "Enter the column name to convert to categorical:  Age\n",
      "Enter the category order (comma-separated):  A, B, C, D, E, F\n"
     ]
    },
    {
     "name": "stdout",
     "output_type": "stream",
     "text": [
      "\n",
      "Sorted Data:\n",
      "      Rk          Player Pos  Age   Tm   G  GS    MP   FG  FGA  ...   FT%  \\\n",
      "0      1      Quincy Acy  PF  NaN  NYK  68  22  1287  152  331  ...  .784   \n",
      "1      2    Jordan Adams  SG  NaN  MEM  30   0   248   35   86  ...  .609   \n",
      "2      3    Steven Adams   C  NaN  OKC  70  67  1771  217  399  ...  .502   \n",
      "3      4     Jeff Adrien  PF  NaN  MIN  17   0   215   19   44  ...  .579   \n",
      "4      5   Arron Afflalo  SG  NaN  TOT  78  72  2502  375  884  ...  .843   \n",
      "..   ...             ...  ..  ...  ...  ..  ..   ...  ...  ...  ...   ...   \n",
      "670  490  Thaddeus Young  PF  NaN  TOT  76  68  2434  451  968  ...  .655   \n",
      "671  490  Thaddeus Young  PF  NaN  MIN  48  48  1605  289  641  ...  .682   \n",
      "672  490  Thaddeus Young  PF  NaN  BRK  28  20   829  162  327  ...  .606   \n",
      "673  491     Cody Zeller   C  NaN  CHO  62  45  1487  172  373  ...  .774   \n",
      "674  492    Tyler Zeller   C  NaN  BOS  82  59  1731  340  619  ...  .823   \n",
      "\n",
      "     ORB  DRB  TRB  AST  STL BLK  TOV   PF   PTS  \n",
      "0     79  222  301   68   27  22   60  147   398  \n",
      "1      9   19   28   16   16   7   14   24    94  \n",
      "2    199  324  523   66   38  86   99  222   537  \n",
      "3     23   54   77   15    4   9    9   30    60  \n",
      "4     27  220  247  129   41   7  116  167  1035  \n",
      "..   ...  ...  ...  ...  ...  ..  ...  ...   ...  \n",
      "670  127  284  411  173  124  25  117  171  1071  \n",
      "671   75  170  245  135   86  17   75  115   685  \n",
      "672   52  114  166   38   38   8   42   56   386  \n",
      "673   97  265  362  100   34  49   62  156   472  \n",
      "674  146  319  465  113   18  52   76  205   833  \n",
      "\n",
      "[675 rows x 30 columns]\n"
     ]
    }
   ],
   "source": [
    "import pandas as pd\n",
    "\n",
    "# Function to read CSV file and convert a column to categorical\n",
    "def convert_and_sort_categorical():\n",
    "    try:\n",
    "        # Input file path\n",
    "        file_path = input(\"Enter the CSV file path: \")\n",
    "        \n",
    "        # Read the CSV file into a DataFrame\n",
    "        df = pd.read_csv(file_path)\n",
    "        \n",
    "        # Display the columns for user selection\n",
    "        print(\"Columns in the CSV file:\")\n",
    "        print(df.columns)\n",
    "        \n",
    "        # Input column name to convert\n",
    "        column_name = input(\"Enter the column name to convert to categorical: \")\n",
    "        \n",
    "        # Input category order as a comma-separated list\n",
    "        category_order = input(\"Enter the category order (comma-separated): \")\n",
    "        category_order = [cat.strip() for cat in category_order.split(\",\")]\n",
    "        \n",
    "        # Convert the specified column to categorical with the specified order\n",
    "        df[column_name] = pd.Categorical(df[column_name], categories=category_order, ordered=True)\n",
    "        \n",
    "        # Sort the DataFrame by the categorical column\n",
    "        df_sorted = df.sort_values(by=column_name)\n",
    "        \n",
    "        # Display the sorted data\n",
    "        print(\"\\nSorted Data:\")\n",
    "        print(df_sorted)\n",
    "        \n",
    "    except Exception as e:\n",
    "        print(f\"An error occurred: {str(e)}\")\n",
    "\n",
    "if __name__ == \"__main__\":\n",
    "    convert_and_sort_categorical()\n"
   ]
  },
  {
   "cell_type": "markdown",
   "id": "be1561cf-9835-4f28-b435-ce02a56abb7a",
   "metadata": {},
   "source": [
    "#### Q10. Write a Python program that reads a CSV file containing sales data for different products and visualizes the data using a stacked bar chart to show the sales of each product category over time. The program should prompt the user to enter the file path and display the chart."
   ]
  },
  {
   "cell_type": "code",
   "execution_count": 4,
   "id": "92afd6e7-f4cb-4669-b5dc-ff0f0b463591",
   "metadata": {},
   "outputs": [
    {
     "name": "stdout",
     "output_type": "stream",
     "text": [
      "Requirement already satisfied: pandas in /opt/conda/lib/python3.10/site-packages (1.5.2)\n",
      "Requirement already satisfied: matplotlib in /opt/conda/lib/python3.10/site-packages (3.6.2)\n",
      "Requirement already satisfied: python-dateutil>=2.8.1 in /opt/conda/lib/python3.10/site-packages (from pandas) (2.8.2)\n",
      "Requirement already satisfied: pytz>=2020.1 in /opt/conda/lib/python3.10/site-packages (from pandas) (2022.6)\n",
      "Requirement already satisfied: numpy>=1.21.0 in /opt/conda/lib/python3.10/site-packages (from pandas) (1.23.5)\n",
      "Requirement already satisfied: packaging>=20.0 in /opt/conda/lib/python3.10/site-packages (from matplotlib) (22.0)\n",
      "Requirement already satisfied: pillow>=6.2.0 in /opt/conda/lib/python3.10/site-packages (from matplotlib) (9.2.0)\n",
      "Requirement already satisfied: pyparsing>=2.2.1 in /opt/conda/lib/python3.10/site-packages (from matplotlib) (3.0.9)\n",
      "Requirement already satisfied: kiwisolver>=1.0.1 in /opt/conda/lib/python3.10/site-packages (from matplotlib) (1.4.4)\n",
      "Requirement already satisfied: cycler>=0.10 in /opt/conda/lib/python3.10/site-packages (from matplotlib) (0.11.0)\n",
      "Requirement already satisfied: contourpy>=1.0.1 in /opt/conda/lib/python3.10/site-packages (from matplotlib) (1.0.6)\n",
      "Requirement already satisfied: fonttools>=4.22.0 in /opt/conda/lib/python3.10/site-packages (from matplotlib) (4.38.0)\n",
      "Requirement already satisfied: six>=1.5 in /opt/conda/lib/python3.10/site-packages (from python-dateutil>=2.8.1->pandas) (1.16.0)\n",
      "Note: you may need to restart the kernel to use updated packages.\n"
     ]
    }
   ],
   "source": [
    "pip install pandas matplotlib"
   ]
  },
  {
   "cell_type": "code",
   "execution_count": 1,
   "id": "33f272ad-6217-4865-baf9-1579497f8b82",
   "metadata": {},
   "outputs": [
    {
     "name": "stdin",
     "output_type": "stream",
     "text": [
      "Enter the CSV file path:  100 Sales Records.csv\n",
      "Enter the column for the x-axis (e.g., Date):  Order Date\n",
      "Enter the column for the y-axis (e.g., Sales):  Units Sold\n",
      "Enter the column for product categories (e.g., Category):  Sales Channel\n"
     ]
    },
    {
     "data": {
      "image/png": "[encoded data removed]",
      "text/plain": [
       "<Figure size 1000x600 with 1 Axes>"
      ]
     },
     "metadata": {},
     "output_type": "display_data"
    }
   ],
   "source": [
    "import pandas as pd\n",
    "import matplotlib.pyplot as plt\n",
    "\n",
    "# Function to read CSV file and create a stacked bar chart\n",
    "def visualize_sales_data():\n",
    "    try:\n",
    "        # Input file path\n",
    "        file_path = input(\"Enter the CSV file path: \")\n",
    "        \n",
    "        # Read the CSV file into a DataFrame\n",
    "        df = pd.read_csv(file_path)\n",
    "        \n",
    "        # Prompt the user to specify the columns for the chart\n",
    "        x_column = input(\"Enter the column for the x-axis (e.g., Date): \")\n",
    "        y_column = input(\"Enter the column for the y-axis (e.g., Sales): \")\n",
    "        category_column = input(\"Enter the column for product categories (e.g., Category): \")\n",
    "        \n",
    "        # Pivot the DataFrame to prepare it for a stacked bar chart\n",
    "        pivoted_df = df.pivot(index=x_column, columns=category_column, values=y_column).fillna(0)\n",
    "        \n",
    "        # Create a stacked bar chart\n",
    "        ax = pivoted_df.plot(kind='bar', stacked=True, figsize=(10, 6))\n",
    "        \n",
    "        # Set chart labels and title\n",
    "        plt.xlabel(x_column)\n",
    "        plt.ylabel(y_column)\n",
    "        plt.title(f'Stacked Bar Chart of {y_column} by {category_column}')\n",
    "        \n",
    "        # Show the chart\n",
    "        plt.legend(title=category_column)\n",
    "        plt.show()\n",
    "        \n",
    "    except Exception as e:\n",
    "        print(f\"An error occurred: {str(e)}\")\n",
    "\n",
    "if __name__ == \"__main__\":\n",
    "    visualize_sales_data()\n"
   ]
  },
  {
   "cell_type": "markdown",
   "id": "2224987d-2925-4022-89af-41fb9052257d",
   "metadata": {},
   "source": [
    "### Q11. You are given a CSV file containing student data that includes the student ID and their test score. Write a Python program that reads the CSV file, calculates the mean, median, and mode of the test scores, and displays the results in a table.\n",
    "\n",
    "The program should do the following:\n",
    "\n",
    "I Prompt the user to enter the file path of the CSV file containing the student dataR\n",
    "I Read the CSV file into a Pandas DataFrameR\n",
    "I Calculate the mean, median, and mode of the test scores using Pandas toolsR\n",
    "I Display the mean, median, and mode in a table.\n",
    "\n",
    "Assume the CSV file contains the following columnsM\n",
    "I Student ID: The ID of the studentR\n",
    "I Test Score: The score of the student's test.\n",
    "Example usage of the program:\n",
    "\n",
    "Enter the file path of the CSV file containing the student data: student_data.csv\n",
    "\n",
    "\n",
    "+-----------+--------+\n",
    "\n",
    "| Statistic | Value  |\n",
    "\n",
    "+-----------+--------+\n",
    "\n",
    "| Mean      | 79.6   |\n",
    "\n",
    "| Median    | 82     |\n",
    "\n",
    "| Mode      | 85, 90 |\n",
    "\n",
    "+-----------+--------+\n",
    "\n",
    "\n",
    "Assume that the CSV file student_data.csv contains the following data:\n",
    "\n",
    "Student ID,Test Score\n",
    "\n",
    "1,85\n",
    "\n",
    "2,90\n",
    "\n",
    "3,80\n",
    "\n",
    "4,75\n",
    "\n",
    "5,85\n",
    "\n",
    "6,82\n",
    "\n",
    "7,78\n",
    "\n",
    "8,85\n",
    "\n",
    "9,90\n",
    "\n",
    "10,85\n",
    "\n",
    "\n",
    "The program should calculate the mean, median, and mode of the test scores and display the results\n",
    "in a table."
   ]
  },
  {
   "cell_type": "code",
   "execution_count": 3,
   "id": "825c074a-19dc-42a4-b9d9-8e1c2146140a",
   "metadata": {},
   "outputs": [
    {
     "name": "stdout",
     "output_type": "stream",
     "text": [
      "CSV file 'student_data.csv' created successfully.\n"
     ]
    }
   ],
   "source": [
    "import pandas as pd\n",
    "\n",
    "# Create a dictionary with student data\n",
    "data = {\n",
    "    'Student ID': [1, 2, 3, 4, 5, 6, 7, 8, 9, 10],\n",
    "    'Test Score': [85, 90, 80, 75, 85, 82, 78, 85, 90, 85]\n",
    "}\n",
    "\n",
    "# Create a DataFrame from the dictionary\n",
    "df = pd.DataFrame(data)\n",
    "\n",
    "# Save the DataFrame to a CSV file named \"student_data.csv\"\n",
    "df.to_csv('student_data.csv', index=False)\n",
    "\n",
    "print(\"CSV file 'student_data.csv' created successfully.\")\n"
   ]
  },
  {
   "cell_type": "code",
   "execution_count": 4,
   "id": "bdf493ca-91bb-4612-8560-48c49e435a2a",
   "metadata": {},
   "outputs": [
    {
     "name": "stdin",
     "output_type": "stream",
     "text": [
      "Enter the file path of the CSV file containing the student data:  student_data.csv\n"
     ]
    },
    {
     "name": "stdout",
     "output_type": "stream",
     "text": [
      "+-----------+--------+\n",
      "| Statistic | Value  |\n",
      "+-----------+--------+\n",
      "| Mean      | 83.5   |\n",
      "| Median    | 85.0    |\n",
      "| Mode      | 85   |\n",
      "+-----------+--------+\n"
     ]
    }
   ],
   "source": [
    "import pandas as pd\n",
    "import statistics\n",
    "\n",
    "# Function to calculate statistics and display the results\n",
    "def calculate_and_display_statistics(file_path):\n",
    "    try:\n",
    "        # Read the CSV file into a Pandas DataFrame\n",
    "        df = pd.read_csv(file_path)\n",
    "        \n",
    "        # Calculate the mean, median, and mode of the test scores\n",
    "        mean_score = df['Test Score'].mean()\n",
    "        median_score = df['Test Score'].median()\n",
    "        mode_scores = statistics.multimode(df['Test Score'])\n",
    "        \n",
    "        # Display the results in a table format\n",
    "        print(\"+-----------+--------+\")\n",
    "        print(\"| Statistic | Value  |\")\n",
    "        print(\"+-----------+--------+\")\n",
    "        print(f\"| Mean      | {mean_score:.1f}   |\")\n",
    "        print(f\"| Median    | {median_score}    |\")\n",
    "        print(f\"| Mode      | {', '.join(map(str, mode_scores))}   |\")\n",
    "        print(\"+-----------+--------+\")\n",
    "        \n",
    "    except Exception as e:\n",
    "        print(f\"An error occurred: {str(e)}\")\n",
    "\n",
    "if __name__ == \"__main__\":\n",
    "    # Prompt the user to enter the file path of the CSV file\n",
    "    file_path = input(\"Enter the file path of the CSV file containing the student data: \")\n",
    "    \n",
    "    # Call the function to calculate and display statistics\n",
    "    calculate_and_display_statistics(file_path)\n"
   ]
  },
  {
   "cell_type": "code",
   "execution_count": null,
   "id": "72df725b-727d-4897-98fa-db278b881aa5",
   "metadata": {},
   "outputs": [],
   "source": []
  },
  {
   "cell_type": "code",
   "execution_count": null,
   "id": "5c6b977c-0eea-4d5d-9960-971be19bacf5",
   "metadata": {},
   "outputs": [],
   "source": []
  }
 ],
 "metadata": {
  "kernelspec": {
   "display_name": "Python 3 (ipykernel)",
   "language": "python",
   "name": "python3"
  },
  "language_info": {
   "codemirror_mode": {
    "name": "ipython",
    "version": 3
   },
   "file_extension": ".py",
   "mimetype": "text/x-python",
   "name": "python",
   "nbconvert_exporter": "python",
   "pygments_lexer": "ipython3",
   "version": "3.10.8"
  }
 },
 "nbformat": 4,
 "nbformat_minor": 5
}
